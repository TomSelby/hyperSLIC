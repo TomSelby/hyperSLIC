{
 "cells": [
  {
   "cell_type": "code",
   "execution_count": 1,
   "id": "f130ff2d-69bd-4d24-bedf-50152e524baf",
   "metadata": {
    "tags": []
   },
   "outputs": [],
   "source": [
    "import hyperSLIC\n",
    "import hyperspy.api as hs\n",
    "import numpy as np\n",
    "import matplotlib.pyplot as plt\n",
    "import time\n",
    "import multiprocessing as mp\n",
    "import numba as nb\n",
    "from numba import jit\n",
    "from tqdm import tqdm\n",
    "import os\n",
    "import copy\n",
    "%matplotlib qt6"
   ]
  },
  {
   "cell_type": "code",
   "execution_count": 2,
   "id": "a6cf55db-513a-4645-976a-4a242ca27398",
   "metadata": {},
   "outputs": [],
   "source": [
    "s = hs.load(r\"C:\\Users\\tas72\\Downloads\\SimulatedData\\SimulatedData\\data\\SEND.hspy\",lazy=True)"
   ]
  },
  {
   "cell_type": "code",
   "execution_count": 3,
   "id": "0d1eb981-253c-436c-85d8-a74dab6c15a5",
   "metadata": {},
   "outputs": [
    {
     "name": "stderr",
     "output_type": "stream",
     "text": [
      "WARNING:hyperspy.io:This file contains a signal provided by the espm Python package that is not currently installed. The signal will be loaded into a generic HyperSpy signal. Consider installing espm to load this dataset into its original signal class.\n",
      "WARNING:hyperspy.io:`signal_type='EDS_espm'` not understood. See `hs.print_known_signal_types()` for a list of installed signal types or https://github.com/hyperspy/hyperspy-extensions-list for the list of all hyperspy extensions providing signals.\n"
     ]
    }
   ],
   "source": [
    "edx = hs.load(r\"C:\\Users\\tas72\\Downloads\\SimulatedData\\SimulatedData\\data\\EDS.hspy\")"
   ]
  },
  {
   "cell_type": "code",
   "execution_count": 4,
   "id": "ff481dfb-d566-41a5-857b-909db544741c",
   "metadata": {},
   "outputs": [],
   "source": [
    "s.data = s.data.astype('uint16')"
   ]
  },
  {
   "cell_type": "code",
   "execution_count": 5,
   "id": "cef24863-3eb2-4922-a91c-dc75b53db88f",
   "metadata": {},
   "outputs": [
    {
     "name": "stdout",
     "output_type": "stream",
     "text": [
      "[########################################] | 100% Completed | 90.27 s\n"
     ]
    }
   ],
   "source": [
    "s.compute()"
   ]
  },
  {
   "cell_type": "code",
   "execution_count": 6,
   "id": "1c164f6a-5ba7-4308-a92b-83079a214184",
   "metadata": {},
   "outputs": [],
   "source": [
    "def plot_ranges(raveled,percentile,bins, mode, plot_or_not):\n",
    "    reshaped = np.reshape(raveled, (np.shape(raveled)[0]*np.shape(raveled)[1], np.shape(raveled)[2]))\n",
    "    if mode == 'range':\n",
    "        ranges = np.ptp(reshaped, axis=0)\n",
    "    if mode == 'var':\n",
    "        ranges = np.var(reshaped,axis=0)\n",
    "    percentile = np.percentile(ranges,percentile)\n",
    "    print(percentile)\n",
    "    if plot_or_not == True:\n",
    "        fig,ax = plt.subplots()\n",
    "        ax.hist(ranges,density = True, bins = bins)\n",
    "        plt.yscale('log')\n",
    "\n",
    "        ax.axvline(percentile,linestyle = \":\",color ='r' )\n",
    "\n",
    "@jit(nopython = True)\n",
    "def quick_wheat(ranges, reshaped, percentile):\n",
    "    wheat = reshaped.T[ranges >= percentile]\n",
    "    return wheat.T\n",
    "\n",
    "def wheat_from_chaff(data, percentile,mode):\n",
    "    reshaped = np.reshape(data, (np.shape(data)[0]*np.shape(data)[1], np.shape(data)[2]))\n",
    "    print(np.shape(reshaped))\n",
    "    print('Reshaped')\n",
    "    if mode == 'range':\n",
    "        ranges = np.ptp(reshaped, axis=0)\n",
    "    if mode == 'var':\n",
    "        ranges = np.var(reshaped,axis=0)\n",
    "    ranges = np.ptp(reshaped, axis=0)\n",
    "    print(np.shape(ranges))\n",
    "    print('Ranges aquried')\n",
    "    percentile = np.percentile(ranges,percentile)\n",
    "    print(percentile)\n",
    "    wheat = quick_wheat(ranges, reshaped, percentile)\n",
    "    print(np.shape(wheat))\n",
    "    print('Wheat separated')\n",
    "    maxes = np.amax(wheat, axis=0)\n",
    "    minis = np.amin(wheat,axis=0) \n",
    "    \n",
    "    wheat = wheat - minis\n",
    "\n",
    "    wheat = wheat/maxes\n",
    "    \n",
    "    wheat = np.reshape(wheat,(np.shape(data)[0],np.shape(data)[1],-1))\n",
    "    return wheat"
   ]
  },
  {
   "cell_type": "code",
   "execution_count": 7,
   "id": "8a9b9207-74ce-49ba-aaac-3a32dc8a0057",
   "metadata": {},
   "outputs": [],
   "source": [
    "raveled = np.reshape(s.data, (s.axes_manager[1].size, s.axes_manager[0].size,s.axes_manager[2].size*s.axes_manager[3].size))"
   ]
  },
  {
   "cell_type": "code",
   "execution_count": 112,
   "id": "ee417c2f-6b91-4285-b016-92160deaae00",
   "metadata": {
    "collapsed": true,
    "jupyter": {
     "outputs_hidden": true,
     "source_hidden": true
    }
   },
   "outputs": [
    {
     "name": "stdout",
     "output_type": "stream",
     "text": [
      "2.0\n"
     ]
    }
   ],
   "source": [
    "plot_ranges(raveled,98,50,'range',True)"
   ]
  },
  {
   "cell_type": "code",
   "execution_count": 8,
   "id": "86672bc4-caf7-4827-b49b-54bea215c4e5",
   "metadata": {},
   "outputs": [
    {
     "name": "stdout",
     "output_type": "stream",
     "text": [
      "(6400, 1024)\n",
      "Reshaped\n",
      "(1024,)\n",
      "Ranges aquried\n",
      "5.0\n",
      "(6400, 66)\n",
      "Wheat separated\n"
     ]
    }
   ],
   "source": [
    "wheat_edx = wheat_from_chaff(edx.data,95,'range')\n",
    "wheat_edx = hs.signals.Signal1D(wheat_edx)"
   ]
  },
  {
   "cell_type": "code",
   "execution_count": 9,
   "id": "14cc9eda-4adb-4a30-8189-eeebc5974648",
   "metadata": {},
   "outputs": [
    {
     "name": "stdout",
     "output_type": "stream",
     "text": [
      "(6400, 1034289)\n",
      "Reshaped\n",
      "(1034289,)\n",
      "Ranges aquried\n",
      "2.0\n",
      "(6400, 72968)\n",
      "Wheat separated\n",
      "Complete (80, 80, 72968)\n"
     ]
    }
   ],
   "source": [
    "wheat = wheat_from_chaff(raveled,98,'range')\n",
    "print('Complete', np.shape(wheat))"
   ]
  },
  {
   "cell_type": "code",
   "execution_count": 10,
   "id": "a6c955ac-6902-4d11-86f6-2c580e527c98",
   "metadata": {},
   "outputs": [],
   "source": [
    "sed_weight_factor = 0.2\n",
    "edx_weight_factor = 3"
   ]
  },
  {
   "cell_type": "code",
   "execution_count": 11,
   "id": "6e2624f0-e6ef-418c-946e-45a1f14b21c4",
   "metadata": {},
   "outputs": [],
   "source": [
    "wheat_hs = hs.signals.Signal1D(np.append(sed_weight_factor*wheat,edx_weight_factor*wheat_edx.data,axis=2))"
   ]
  },
  {
   "cell_type": "code",
   "execution_count": 14,
   "id": "bc2764b0-2ad8-4f73-a7c8-6c49246840b8",
   "metadata": {
    "tags": []
   },
   "outputs": [],
   "source": [
    "epochs = 5 #(5 works okay with these params)\n",
    "iterations = 5\n",
    "cluster_number = 100\n",
    "m_value = 1\n",
    "searchspace = 1\n",
    "method = 'semi'\n",
    "test = hyperSLIC.SLIC(wheat_hs,method,cluster_number,m_value,searchspace)"
   ]
  },
  {
   "cell_type": "code",
   "execution_count": 15,
   "id": "2cfffd62-32cc-413a-9d94-21cb22925177",
   "metadata": {},
   "outputs": [
    {
     "name": "stderr",
     "output_type": "stream",
     "text": [
      "100%|████████████████████████████████████████████████████████████████████████████████████| 5/5 [00:39<00:00,  7.87s/it]\n",
      "100%|████████████████████████████████████████████████████████████████████████████████████| 5/5 [00:34<00:00,  6.85s/it]\n",
      "100%|████████████████████████████████████████████████████████████████████████████████████| 5/5 [00:33<00:00,  6.79s/it]\n",
      "100%|████████████████████████████████████████████████████████████████████████████████████| 5/5 [00:34<00:00,  6.91s/it]\n",
      "100%|████████████████████████████████████████████████████████████████████████████████████| 5/5 [00:34<00:00,  6.91s/it]\n"
     ]
    }
   ],
   "source": [
    "accumulator = np.zeros((test.width,test.height,test.k))\n",
    "for k in range(epochs):\n",
    "    test = hyperSLIC.SLIC(wheat_hs,method,cluster_number,m_value,searchspace) # centroid initalisation, seed_num, m, searchspace\n",
    "    for i in tqdm(range(iterations)):\n",
    "        test.find_closest_centeroid()\n",
    "        test.update_centeroids()\n",
    "    for i in range(np.shape(accumulator)[0]):\n",
    "        for j in range(np.shape(accumulator)[1]):\n",
    "            cluster = test.closest_centeroid[i,j]\n",
    "            accumulator[i,j,int(cluster)] += 1"
   ]
  },
  {
   "cell_type": "code",
   "execution_count": 18,
   "id": "4d39d9da-c972-41ab-a377-e95c30fd3957",
   "metadata": {},
   "outputs": [],
   "source": [
    "test.closest_centeroid = np.argmax(accumulator,axis=2)"
   ]
  },
  {
   "cell_type": "code",
   "execution_count": 16,
   "id": "fe23eb63-b914-4e6f-9b7b-2acb849e8e02",
   "metadata": {
    "tags": []
   },
   "outputs": [
    {
     "data": {
      "text/plain": [
       "<matplotlib.image.AxesImage at 0x2359b4e1910>"
      ]
     },
     "execution_count": 16,
     "metadata": {},
     "output_type": "execute_result"
    }
   ],
   "source": [
    "vals = np.linspace(0,1,256)\n",
    "np.random.shuffle(vals)\n",
    "cmap = plt.cm.colors.ListedColormap(plt.cm.gist_stern(vals))\n",
    "centeroids = np.zeros((test.width,test.height))\n",
    "for counter,centeroid in enumerate(test.xy_centeroids):\n",
    "    centeroids[int(centeroid[0]),int(centeroid[1])] = counter    \n",
    "fig,ax = plt.subplots()\n",
    "ax.imshow(centeroids,cmap=cmap)"
   ]
  },
  {
   "cell_type": "code",
   "execution_count": 19,
   "id": "35bddfc2-1f99-46c8-99f8-5e9d594bfdcf",
   "metadata": {},
   "outputs": [
    {
     "data": {
      "text/plain": [
       "[]"
      ]
     },
     "execution_count": 19,
     "metadata": {},
     "output_type": "execute_result"
    }
   ],
   "source": [
    "vals = np.linspace(0,1,256)\n",
    "np.random.shuffle(vals)\n",
    "cmap = plt.cm.colors.ListedColormap(plt.cm.gist_stern(vals))\n",
    "fig,ax = plt.subplots(1,3)\n",
    "ax[0].imshow(test.image,cmap='gray')\n",
    "ax[1].imshow(test.closest_centeroid,cmap=cmap)\n",
    "ax[2].imshow(test.image,cmap='gray')\n",
    "ax[2].imshow(test.closest_centeroid,cmap=cmap,alpha=0.25)\n",
    "ax[0].set_xticks([])\n",
    "ax[1].set_xticks([])\n",
    "ax[2].set_xticks([])\n",
    "ax[0].set_yticks([])\n",
    "ax[1].set_yticks([])\n",
    "ax[2].set_yticks([])\n",
    "#plt.savefig('dark_feild_total',dpi=600)"
   ]
  },
  {
   "cell_type": "code",
   "execution_count": 20,
   "id": "c13788e5-7a19-45bd-aba6-4fee0eb9063f",
   "metadata": {},
   "outputs": [
    {
     "data": {
      "text/plain": [
       "<matplotlib.image.AxesImage at 0x2359b979550>"
      ]
     },
     "execution_count": 20,
     "metadata": {},
     "output_type": "execute_result"
    }
   ],
   "source": [
    "fig,ax = plt.subplots()\n",
    "ax.imshow(np.argmax(accumulator,axis=2),cmap=cmap)"
   ]
  },
  {
   "cell_type": "markdown",
   "id": "add29097-8df0-47e3-b201-67e4682b3f66",
   "metadata": {},
   "source": [
    "Check if regions are similar to eachother- and merge is this is so"
   ]
  },
  {
   "cell_type": "code",
   "execution_count": 21,
   "id": "8080a240-74fd-40e0-861f-73c3f5c5da04",
   "metadata": {
    "tags": []
   },
   "outputs": [
    {
     "name": "stderr",
     "output_type": "stream",
     "text": [
      "100%|██████████████████████████████████████████████████████████████████████████████████| 80/80 [00:04<00:00, 18.45it/s]\n"
     ]
    }
   ],
   "source": [
    "summed_channels = np.zeros(test.k,dtype='object')\n",
    "number_of_occurances = np.zeros(test.k)\n",
    "\n",
    "for row in tqdm(range(np.shape(test.closest_centeroid)[0])):\n",
    "    for col in range(np.shape(test.closest_centeroid)[1]):\n",
    "        \n",
    "        arg = int(test.closest_centeroid[row,col])\n",
    "        number_of_occurances[arg] += 1 \n",
    "        channel = test.dot_data[row,col].astype(np.float32)# Use the copy not the data with the masked bright feild\n",
    "        summed_channels[arg]+=channel\n",
    "\n",
    "for i in range(len(number_of_occurances)):\n",
    "    occurances = number_of_occurances[i]\n",
    "    if occurances == 0:\n",
    "        number_of_occurances[i] = np.nan\n",
    "        \n",
    "\n",
    "mean_channels = summed_channels/number_of_occurances"
   ]
  },
  {
   "cell_type": "code",
   "execution_count": 22,
   "id": "f871fa59-ed34-47b3-9fb1-fcd3fd417af6",
   "metadata": {
    "tags": []
   },
   "outputs": [
    {
     "name": "stderr",
     "output_type": "stream",
     "text": [
      "100%|████████████████████████████████████████████████████████████████████████████████| 100/100 [00:05<00:00, 16.71it/s]\n"
     ]
    },
    {
     "data": {
      "text/plain": [
       "<matplotlib.image.AxesImage at 0x2359ab7f8d0>"
      ]
     },
     "execution_count": 22,
     "metadata": {},
     "output_type": "execute_result"
    }
   ],
   "source": [
    "combine_threshold = 0.975\n",
    "from scipy.stats import pearsonr\n",
    "updated_centroids = copy.deepcopy(test.closest_centeroid)\n",
    "for i in tqdm(range(len(mean_channels))):\n",
    "    channel_oi = mean_channels[i]\n",
    "    for counter,comparison_channel in enumerate(mean_channels[i:]):\n",
    "        difference = channel_oi - comparison_channel\n",
    "        difference = np.abs(difference)\n",
    "        difference = np.sum(difference)\n",
    "        try:\n",
    "            r = pearsonr(channel_oi,comparison_channel)\n",
    "            if r[0] > combine_threshold:\n",
    "                args = np.where(updated_centroids == i)\n",
    "                for j in range(len(args[0])):\n",
    "                        row = args[0][j]\n",
    "                        col = args[1][j]\n",
    "                        updated_centroids[row,col] = i+counter\n",
    "        except:\n",
    "            pass\n",
    "                \n",
    "fig,ax = plt.subplots(1,3)\n",
    "ax[0].imshow(test.image,cmap='gray')\n",
    "ax[1].imshow(test.closest_centeroid,cmap=cmap)\n",
    "ax[2].imshow(test.image,cmap='gray')\n",
    "ax[2].imshow(updated_centroids,cmap=cmap,alpha=0.5)\n"
   ]
  },
  {
   "cell_type": "code",
   "execution_count": 121,
   "id": "4fcfe96f-5d79-4505-9d15-2fa6ce2ebba8",
   "metadata": {},
   "outputs": [
    {
     "name": "stderr",
     "output_type": "stream",
     "text": [
      "100%|██████████████████████████████████████████████████████████████████████████████████| 80/80 [00:11<00:00,  6.80it/s]\n"
     ]
    }
   ],
   "source": [
    "summed_patterns = np.zeros(test.k,dtype='object')\n",
    "\n",
    "number_of_occurances = np.zeros(test.k)\n",
    "\n",
    "\n",
    "for row in tqdm(range(np.shape(test.closest_centeroid)[0])):\n",
    "    for col in range(np.shape(test.closest_centeroid)[1]):\n",
    "        \n",
    "        arg = int(test.closest_centeroid[row,col])\n",
    "        number_of_occurances[arg] += 1 \n",
    "        pattern = s.data[row,col].astype(np.float32)# Use the copy not the data with the masked bright feild\n",
    "        summed_patterns[arg]+=pattern\n",
    "\n",
    "for i in range(len(number_of_occurances)):\n",
    "    occurances = number_of_occurances[i]\n",
    "    if occurances == 0:\n",
    "        number_of_occurances[i] = -1\n",
    "        \n",
    "\n",
    "mean_patterns = summed_patterns/number_of_occurances"
   ]
  },
  {
   "cell_type": "code",
   "execution_count": 122,
   "id": "8e66c2e7-cab9-4cad-9817-bbdb03157f25",
   "metadata": {},
   "outputs": [],
   "source": [
    "grid_x, grid_y = 10,10\n",
    "fig,ax = plt.subplots(grid_x,grid_y)\n",
    "for i in range(grid_x):\n",
    "    for j in range(grid_y):\n",
    "        try:\n",
    "            ax[i,j].imshow(mean_patterns[i*grid_x+j],vmax=0.1,cmap='Greys')\n",
    "            ax[i,j].set_xticks([])\n",
    "            ax[i,j].set_yticks([])\n",
    "            #ax[i,j].title.set_text(i*25+j)\n",
    "\n",
    "        except:\n",
    "            ax[i,j].set_xticks([])\n",
    "            ax[i,j].set_yticks([])\n",
    "\n",
    "plt.tight_layout()\n",
    "plt.subplots_adjust(left=0, right=1, top=1, bottom=0,wspace=-0, hspace=0)\n",
    "#plt.savefig('all_patterns.png', dpi=300)"
   ]
  },
  {
   "cell_type": "code",
   "execution_count": 41,
   "id": "48d6150a-0012-4683-8aaa-fab4e474a6d4",
   "metadata": {},
   "outputs": [],
   "source": [
    "for pattern in mean_patterns:\n",
    "    try:\n",
    "        fig,ax = plt.subplots()\n",
    "        ax.imshow(pattern,vmax=0.1)\n",
    "        plt.waitforbuttonpress()\n",
    "        plt.close()\n",
    "    except:\n",
    "        plt.close()\n"
   ]
  },
  {
   "cell_type": "code",
   "execution_count": 67,
   "id": "8e7cee97-dc59-4a69-a81b-4f9d2971f060",
   "metadata": {},
   "outputs": [],
   "source": [
    "np.save('diffrcation_patterns',mean_patterns)"
   ]
  },
  {
   "cell_type": "code",
   "execution_count": 68,
   "id": "aee471f9-320f-4ca4-b140-46e3561c0098",
   "metadata": {},
   "outputs": [],
   "source": [
    "np.save('clusters',test.closest_centeroid)"
   ]
  },
  {
   "cell_type": "code",
   "execution_count": null,
   "id": "a41488ac-1c5c-4c2d-9675-72b31f95e61b",
   "metadata": {},
   "outputs": [],
   "source": [
    "np.load()"
   ]
  }
 ],
 "metadata": {
  "kernelspec": {
   "display_name": "Python 3 (ipykernel)",
   "language": "python",
   "name": "python3"
  },
  "language_info": {
   "codemirror_mode": {
    "name": "ipython",
    "version": 3
   },
   "file_extension": ".py",
   "mimetype": "text/x-python",
   "name": "python",
   "nbconvert_exporter": "python",
   "pygments_lexer": "ipython3",
   "version": "3.11.5"
  }
 },
 "nbformat": 4,
 "nbformat_minor": 5
}
